{
 "cells": [
  {
   "cell_type": "markdown",
   "metadata": {},
   "source": [
    "## Work\n",
    "1. 請嘗試將 preproc_x 替換成以每筆資料的 min/max 進行標準化至 -1 ~ 1 間，再進行訓練\n",
    "2. 請嘗試將 mlp 疊更深 (e.g 5~10 層)，進行訓練後觀察 learning curve 的走勢\n",
    "3. (optional) 請改用 GPU 進行訓練 (如果你有 GPU 的話)，比較使用 CPU 與 GPU 的訓練速度"
   ]
  },
  {
   "cell_type": "code",
   "execution_count": 65,
   "metadata": {},
   "outputs": [
    {
     "data": {
      "text/plain": [
       "'\\nYour code here (optional)\\n確認硬體資源\\n'"
      ]
     },
     "execution_count": 65,
     "metadata": {},
     "output_type": "execute_result"
    }
   ],
   "source": [
    "## \n",
    "\"\"\"\n",
    "Your code here (optional)\n",
    "確認硬體資源\n",
    "\"\"\"\n"
   ]
  },
  {
   "cell_type": "code",
   "execution_count": 66,
   "metadata": {},
   "outputs": [],
   "source": [
    "import os\n",
    "import keras\n",
    "# 請嘗試設定 GPU：os.environ\n",
    "os.environ[\"CUDA_VISIBLE_DEVICES\"] = ''"
   ]
  },
  {
   "cell_type": "code",
   "execution_count": 67,
   "metadata": {},
   "outputs": [],
   "source": [
    "(x_train, y_train), (x_test, y_test) = keras.datasets.cifar10.load_data()"
   ]
  },
  {
   "cell_type": "code",
   "execution_count": 68,
   "metadata": {},
   "outputs": [],
   "source": [
    "## 資料前處理\n",
    "\"\"\"\n",
    "Your code here\n",
    "\"\"\"\n",
    "def preproc_x(x, flatten=True):\n",
    "    x=(x/255-0.5)*2\n",
    "    if flatten:\n",
    "        x = x.reshape((len(x), -1))\n",
    "    return x\n",
    "\n",
    "def preproc_y(y,num_classes=10):\n",
    "    if y.shape[-1] == 1:\n",
    "        y = keras.utils.to_categorical(y, num_classes)\n",
    "    return y  "
   ]
  },
  {
   "cell_type": "code",
   "execution_count": 69,
   "metadata": {},
   "outputs": [],
   "source": [
    "\n",
    "# Preproc the inputs\n",
    "x_train = preproc_x(x_train)\n",
    "x_test = preproc_x(x_test)\n",
    "\n",
    "# Preprc the outputs\n",
    "y_train = preproc_y(y_train)\n",
    "y_test = preproc_y(y_test)"
   ]
  },
  {
   "cell_type": "code",
   "execution_count": 70,
   "metadata": {},
   "outputs": [
    {
     "data": {
      "text/plain": [
       "array([[-0.5372549 , -0.51372549, -0.50588235, ..., -0.03529412,\n",
       "        -0.27843137, -0.43529412],\n",
       "       [ 0.20784314,  0.38823529,  0.46666667, ...,  0.12156863,\n",
       "         0.04313725,  0.12941176],\n",
       "       [ 1.        ,  1.        ,  1.        , ..., -0.37254902,\n",
       "        -0.3254902 , -0.34117647],\n",
       "       ...,\n",
       "       [-0.7254902 ,  0.39607843,  0.84313725, ..., -0.90588235,\n",
       "        -0.75686275, -0.60784314],\n",
       "       [ 0.48235294,  0.65490196,  0.88235294, ...,  0.52941176,\n",
       "         0.49019608,  0.34117647],\n",
       "       [ 0.79607843,  0.79607843,  0.8745098 , ...,  0.27843137,\n",
       "         0.27843137,  0.2627451 ]])"
      ]
     },
     "execution_count": 70,
     "metadata": {},
     "output_type": "execute_result"
    }
   ],
   "source": [
    "x_train"
   ]
  },
  {
   "cell_type": "code",
   "execution_count": 71,
   "metadata": {},
   "outputs": [
    {
     "name": "stdout",
     "output_type": "stream",
     "text": [
      "_________________________________________________________________\n",
      "Layer (type)                 Output Shape              Param #   \n",
      "=================================================================\n",
      "input_7 (InputLayer)         (None, 3072)              0         \n",
      "_________________________________________________________________\n",
      "hidden_layer1 (Dense)        (None, 512)               1573376   \n",
      "_________________________________________________________________\n",
      "hidden_layer2 (Dense)        (None, 256)               131328    \n",
      "_________________________________________________________________\n",
      "hidden_layer3 (Dense)        (None, 256)               65792     \n",
      "_________________________________________________________________\n",
      "hidden_layer4 (Dense)        (None, 256)               65792     \n",
      "_________________________________________________________________\n",
      "hidden_layer5 (Dense)        (None, 256)               65792     \n",
      "_________________________________________________________________\n",
      "hidden_layer6 (Dense)        (None, 256)               65792     \n",
      "_________________________________________________________________\n",
      "hidden_layer7 (Dense)        (None, 256)               65792     \n",
      "_________________________________________________________________\n",
      "hidden_layer8 (Dense)        (None, 128)               32896     \n",
      "_________________________________________________________________\n",
      "output (Dense)               (None, 10)                1290      \n",
      "=================================================================\n",
      "Total params: 2,067,850\n",
      "Trainable params: 2,067,850\n",
      "Non-trainable params: 0\n",
      "_________________________________________________________________\n"
     ]
    }
   ],
   "source": [
    "\"\"\"Code Here\n",
    "建立你的神經網路\n",
    "\"\"\"\n",
    "def build_mlp(input_shape, output_units=10, num_neurons=[512,256,256,256,256,256,256,128]):\n",
    "    input_layer = keras.layers.Input(input_shape)\n",
    "    \n",
    "    for i, n_units in enumerate(num_neurons):\n",
    "        if i == 0:\n",
    "            x = keras.layers.Dense(units=n_units, activation=\"relu\", name=\"hidden_layer\"+str(i+1))(input_layer)\n",
    "        else:\n",
    "            x = keras.layers.Dense(units=n_units, activation=\"relu\", name=\"hidden_layer\"+str(i+1))(x)\n",
    "    \n",
    "    out = keras.layers.Dense(units=output_units, activation=\"softmax\", name=\"output\")(x)\n",
    "    \n",
    "    model = keras.models.Model(inputs=[input_layer], outputs=[out])\n",
    "    return model\n",
    "\n",
    "model = build_mlp(input_shape=x_train.shape[1:])\n",
    "model.summary()"
   ]
  },
  {
   "cell_type": "code",
   "execution_count": 72,
   "metadata": {},
   "outputs": [],
   "source": [
    "## 超參數設定\n",
    "LEARNING_RATE = 0.001\n",
    "EPOCHS = 100\n",
    "BATCH_SIZE = 256"
   ]
  },
  {
   "cell_type": "code",
   "execution_count": 73,
   "metadata": {},
   "outputs": [],
   "source": [
    "optimizer = keras.optimizers.Adam(lr=LEARNING_RATE)\n",
    "model.compile(loss=\"categorical_crossentropy\", metrics=[\"accuracy\"], optimizer=optimizer)"
   ]
  },
  {
   "cell_type": "code",
   "execution_count": 74,
   "metadata": {},
   "outputs": [
    {
     "name": "stdout",
     "output_type": "stream",
     "text": [
      "Train on 50000 samples, validate on 10000 samples\n",
      "Epoch 1/100\n",
      "50000/50000 [==============================] - 5s 103us/step - loss: 1.7358 - acc: 0.3750 - val_loss: 1.5670 - val_acc: 0.4407\n",
      "Epoch 2/100\n",
      "50000/50000 [==============================] - 4s 85us/step - loss: 1.5003 - acc: 0.4707 - val_loss: 1.4447 - val_acc: 0.4879\n",
      "Epoch 3/100\n",
      "50000/50000 [==============================] - 4s 85us/step - loss: 1.3765 - acc: 0.5114 - val_loss: 1.4025 - val_acc: 0.5024\n",
      "Epoch 4/100\n",
      "50000/50000 [==============================] - 4s 86us/step - loss: 1.2767 - acc: 0.5471 - val_loss: 1.3890 - val_acc: 0.5117\n",
      "Epoch 5/100\n",
      "50000/50000 [==============================] - 4s 86us/step - loss: 1.1946 - acc: 0.5759 - val_loss: 1.3889 - val_acc: 0.5253\n",
      "Epoch 6/100\n",
      "50000/50000 [==============================] - 4s 86us/step - loss: 1.1170 - acc: 0.6024 - val_loss: 1.3646 - val_acc: 0.5308\n",
      "Epoch 7/100\n",
      "50000/50000 [==============================] - 4s 87us/step - loss: 1.0397 - acc: 0.6311 - val_loss: 1.3910 - val_acc: 0.5322\n",
      "Epoch 8/100\n",
      "50000/50000 [==============================] - 4s 87us/step - loss: 0.9698 - acc: 0.6554 - val_loss: 1.3707 - val_acc: 0.5383\n",
      "Epoch 9/100\n",
      "50000/50000 [==============================] - 4s 85us/step - loss: 0.8991 - acc: 0.6819 - val_loss: 1.4231 - val_acc: 0.5362\n",
      "Epoch 10/100\n",
      "50000/50000 [==============================] - 4s 87us/step - loss: 0.8443 - acc: 0.6984 - val_loss: 1.4132 - val_acc: 0.5406\n",
      "Epoch 11/100\n",
      "50000/50000 [==============================] - 4s 86us/step - loss: 0.7719 - acc: 0.7258 - val_loss: 1.4872 - val_acc: 0.5371\n",
      "Epoch 12/100\n",
      "50000/50000 [==============================] - 4s 86us/step - loss: 0.7196 - acc: 0.7455 - val_loss: 1.5157 - val_acc: 0.5428\n",
      "Epoch 13/100\n",
      "50000/50000 [==============================] - 4s 86us/step - loss: 0.6679 - acc: 0.7630 - val_loss: 1.5849 - val_acc: 0.5390\n",
      "Epoch 14/100\n",
      "50000/50000 [==============================] - 4s 87us/step - loss: 0.6181 - acc: 0.7804 - val_loss: 1.6792 - val_acc: 0.5379\n",
      "Epoch 15/100\n",
      "50000/50000 [==============================] - 4s 90us/step - loss: 0.5692 - acc: 0.7981 - val_loss: 1.7468 - val_acc: 0.5367\n",
      "Epoch 16/100\n",
      "50000/50000 [==============================] - 4s 88us/step - loss: 0.5204 - acc: 0.8164 - val_loss: 1.7447 - val_acc: 0.5382\n",
      "Epoch 17/100\n",
      "50000/50000 [==============================] - 4s 88us/step - loss: 0.4902 - acc: 0.8264 - val_loss: 1.8294 - val_acc: 0.5378\n",
      "Epoch 18/100\n",
      "50000/50000 [==============================] - 4s 87us/step - loss: 0.4467 - acc: 0.8424 - val_loss: 1.8102 - val_acc: 0.5397\n",
      "Epoch 19/100\n",
      "50000/50000 [==============================] - 4s 88us/step - loss: 0.4149 - acc: 0.8552 - val_loss: 1.9537 - val_acc: 0.5367\n",
      "Epoch 20/100\n",
      "50000/50000 [==============================] - 5s 91us/step - loss: 0.3757 - acc: 0.8688 - val_loss: 2.0169 - val_acc: 0.5309\n",
      "Epoch 21/100\n",
      "50000/50000 [==============================] - 4s 87us/step - loss: 0.3568 - acc: 0.8761 - val_loss: 2.0903 - val_acc: 0.5422\n",
      "Epoch 22/100\n",
      "50000/50000 [==============================] - 4s 89us/step - loss: 0.3362 - acc: 0.8839 - val_loss: 2.1158 - val_acc: 0.5393\n",
      "Epoch 23/100\n",
      "50000/50000 [==============================] - 5s 90us/step - loss: 0.3116 - acc: 0.8915 - val_loss: 2.1683 - val_acc: 0.5334\n",
      "Epoch 24/100\n",
      "50000/50000 [==============================] - 4s 85us/step - loss: 0.2926 - acc: 0.8993 - val_loss: 2.3455 - val_acc: 0.5316\n",
      "Epoch 25/100\n",
      "50000/50000 [==============================] - 4s 86us/step - loss: 0.2611 - acc: 0.9096 - val_loss: 2.4853 - val_acc: 0.5306\n",
      "Epoch 26/100\n",
      "50000/50000 [==============================] - 4s 87us/step - loss: 0.2628 - acc: 0.9096 - val_loss: 2.3655 - val_acc: 0.5285\n",
      "Epoch 27/100\n",
      "50000/50000 [==============================] - 4s 86us/step - loss: 0.2457 - acc: 0.9160 - val_loss: 2.3321 - val_acc: 0.5344\n",
      "Epoch 28/100\n",
      "50000/50000 [==============================] - 5s 93us/step - loss: 0.2314 - acc: 0.9205 - val_loss: 2.5537 - val_acc: 0.5345\n",
      "Epoch 29/100\n",
      "50000/50000 [==============================] - 5s 91us/step - loss: 0.2164 - acc: 0.9252 - val_loss: 2.6886 - val_acc: 0.5336\n",
      "Epoch 30/100\n",
      "50000/50000 [==============================] - 4s 87us/step - loss: 0.2173 - acc: 0.9247 - val_loss: 2.5598 - val_acc: 0.5394\n",
      "Epoch 31/100\n",
      "50000/50000 [==============================] - 4s 85us/step - loss: 0.1935 - acc: 0.9330 - val_loss: 2.5758 - val_acc: 0.5302\n",
      "Epoch 32/100\n",
      "50000/50000 [==============================] - 4s 85us/step - loss: 0.1799 - acc: 0.9391 - val_loss: 2.6970 - val_acc: 0.5340\n",
      "Epoch 33/100\n",
      "50000/50000 [==============================] - 4s 85us/step - loss: 0.1838 - acc: 0.9374 - val_loss: 2.4990 - val_acc: 0.5317\n",
      "Epoch 34/100\n",
      "50000/50000 [==============================] - 4s 90us/step - loss: 0.1795 - acc: 0.9389 - val_loss: 2.6736 - val_acc: 0.5338\n",
      "Epoch 35/100\n",
      "50000/50000 [==============================] - 4s 85us/step - loss: 0.1635 - acc: 0.9451 - val_loss: 2.6554 - val_acc: 0.5321\n",
      "Epoch 36/100\n",
      "50000/50000 [==============================] - 4s 89us/step - loss: 0.1722 - acc: 0.9433 - val_loss: 2.7538 - val_acc: 0.5336\n",
      "Epoch 37/100\n",
      "50000/50000 [==============================] - 5s 90us/step - loss: 0.1590 - acc: 0.9456 - val_loss: 2.8110 - val_acc: 0.5397\n",
      "Epoch 38/100\n",
      "50000/50000 [==============================] - 4s 85us/step - loss: 0.1542 - acc: 0.9487 - val_loss: 2.7300 - val_acc: 0.5363\n",
      "Epoch 39/100\n",
      "50000/50000 [==============================] - 4s 86us/step - loss: 0.1409 - acc: 0.9519 - val_loss: 2.9087 - val_acc: 0.5332\n",
      "Epoch 40/100\n",
      "50000/50000 [==============================] - 4s 85us/step - loss: 0.1484 - acc: 0.9508 - val_loss: 2.7781 - val_acc: 0.5327\n",
      "Epoch 41/100\n",
      "50000/50000 [==============================] - 4s 85us/step - loss: 0.1497 - acc: 0.9494 - val_loss: 2.7359 - val_acc: 0.5361\n",
      "Epoch 42/100\n",
      "50000/50000 [==============================] - 4s 86us/step - loss: 0.1394 - acc: 0.9540 - val_loss: 2.8454 - val_acc: 0.5296\n",
      "Epoch 43/100\n",
      "50000/50000 [==============================] - 4s 86us/step - loss: 0.1322 - acc: 0.9556 - val_loss: 2.8241 - val_acc: 0.5278\n",
      "Epoch 44/100\n",
      "50000/50000 [==============================] - 4s 84us/step - loss: 0.1242 - acc: 0.9592 - val_loss: 2.9554 - val_acc: 0.5379\n",
      "Epoch 45/100\n",
      "50000/50000 [==============================] - 4s 85us/step - loss: 0.1263 - acc: 0.9580 - val_loss: 3.0419 - val_acc: 0.5333\n",
      "Epoch 46/100\n",
      "50000/50000 [==============================] - 4s 86us/step - loss: 0.1311 - acc: 0.9566 - val_loss: 2.8440 - val_acc: 0.5260\n",
      "Epoch 47/100\n",
      "50000/50000 [==============================] - 4s 86us/step - loss: 0.1193 - acc: 0.9609 - val_loss: 2.9747 - val_acc: 0.5298\n",
      "Epoch 48/100\n",
      "50000/50000 [==============================] - 4s 86us/step - loss: 0.1229 - acc: 0.9589 - val_loss: 2.7134 - val_acc: 0.5422\n",
      "Epoch 49/100\n",
      "50000/50000 [==============================] - 4s 85us/step - loss: 0.1215 - acc: 0.9606 - val_loss: 2.9086 - val_acc: 0.5316\n",
      "Epoch 50/100\n",
      "50000/50000 [==============================] - 4s 85us/step - loss: 0.1194 - acc: 0.9603 - val_loss: 3.0075 - val_acc: 0.5419\n",
      "Epoch 51/100\n",
      "50000/50000 [==============================] - 4s 85us/step - loss: 0.1131 - acc: 0.9632 - val_loss: 2.8248 - val_acc: 0.5351\n",
      "Epoch 52/100\n",
      "50000/50000 [==============================] - 4s 85us/step - loss: 0.0984 - acc: 0.9687 - val_loss: 3.1250 - val_acc: 0.5384\n",
      "Epoch 53/100\n",
      "50000/50000 [==============================] - 4s 85us/step - loss: 0.1151 - acc: 0.9611 - val_loss: 2.9931 - val_acc: 0.5360\n",
      "Epoch 54/100\n",
      "50000/50000 [==============================] - 4s 85us/step - loss: 0.1229 - acc: 0.9597 - val_loss: 2.9246 - val_acc: 0.5360\n",
      "Epoch 55/100\n",
      "50000/50000 [==============================] - 4s 85us/step - loss: 0.1057 - acc: 0.9650 - val_loss: 3.1136 - val_acc: 0.53350.96\n",
      "Epoch 56/100\n",
      "50000/50000 [==============================] - 4s 85us/step - loss: 0.1027 - acc: 0.9671 - val_loss: 3.0670 - val_acc: 0.5248\n",
      "Epoch 57/100\n",
      "50000/50000 [==============================] - 4s 86us/step - loss: 0.1034 - acc: 0.9662 - val_loss: 3.0036 - val_acc: 0.5364\n",
      "Epoch 58/100\n",
      "50000/50000 [==============================] - 4s 86us/step - loss: 0.0927 - acc: 0.9691 - val_loss: 3.0170 - val_acc: 0.5272\n",
      "Epoch 59/100\n"
     ]
    },
    {
     "name": "stdout",
     "output_type": "stream",
     "text": [
      "50000/50000 [==============================] - 4s 85us/step - loss: 0.0981 - acc: 0.9677 - val_loss: 3.1025 - val_acc: 0.5305\n",
      "Epoch 60/100\n",
      "50000/50000 [==============================] - 4s 86us/step - loss: 0.1167 - acc: 0.9632 - val_loss: 3.0270 - val_acc: 0.5313\n",
      "Epoch 61/100\n",
      "50000/50000 [==============================] - 4s 84us/step - loss: 0.0968 - acc: 0.9683 - val_loss: 3.0906 - val_acc: 0.5335\n",
      "Epoch 62/100\n",
      "50000/50000 [==============================] - 4s 85us/step - loss: 0.1001 - acc: 0.9672 - val_loss: 3.0503 - val_acc: 0.5377\n",
      "Epoch 63/100\n",
      "50000/50000 [==============================] - 4s 85us/step - loss: 0.0923 - acc: 0.9702 - val_loss: 3.0205 - val_acc: 0.5282\n",
      "Epoch 64/100\n",
      "50000/50000 [==============================] - 4s 85us/step - loss: 0.0875 - acc: 0.9723 - val_loss: 3.2940 - val_acc: 0.5333\n",
      "Epoch 65/100\n",
      "50000/50000 [==============================] - 4s 86us/step - loss: 0.0907 - acc: 0.9708 - val_loss: 3.0323 - val_acc: 0.5322\n",
      "Epoch 66/100\n",
      "50000/50000 [==============================] - 4s 88us/step - loss: 0.0937 - acc: 0.9697 - val_loss: 3.0588 - val_acc: 0.5354\n",
      "Epoch 67/100\n",
      "50000/50000 [==============================] - 4s 85us/step - loss: 0.0918 - acc: 0.9698 - val_loss: 3.4062 - val_acc: 0.5400\n",
      "Epoch 68/100\n",
      "50000/50000 [==============================] - 4s 86us/step - loss: 0.0924 - acc: 0.9695 - val_loss: 3.2811 - val_acc: 0.5398\n",
      "Epoch 69/100\n",
      "50000/50000 [==============================] - 4s 85us/step - loss: 0.0977 - acc: 0.9688 - val_loss: 2.9265 - val_acc: 0.5345\n",
      "Epoch 70/100\n",
      "50000/50000 [==============================] - 4s 85us/step - loss: 0.0839 - acc: 0.9729 - val_loss: 3.2078 - val_acc: 0.5330\n",
      "Epoch 71/100\n",
      "50000/50000 [==============================] - 4s 85us/step - loss: 0.0993 - acc: 0.9681 - val_loss: 3.1641 - val_acc: 0.5363\n",
      "Epoch 72/100\n",
      "50000/50000 [==============================] - 4s 85us/step - loss: 0.0827 - acc: 0.9730 - val_loss: 3.2015 - val_acc: 0.5415\n",
      "Epoch 73/100\n",
      "50000/50000 [==============================] - 4s 86us/step - loss: 0.0790 - acc: 0.9750 - val_loss: 3.1706 - val_acc: 0.5348\n",
      "Epoch 74/100\n",
      "50000/50000 [==============================] - 4s 85us/step - loss: 0.0812 - acc: 0.9735 - val_loss: 3.1884 - val_acc: 0.5413\n",
      "Epoch 75/100\n",
      "50000/50000 [==============================] - 4s 87us/step - loss: 0.0841 - acc: 0.9732 - val_loss: 3.0732 - val_acc: 0.5365\n",
      "Epoch 76/100\n",
      "50000/50000 [==============================] - 4s 87us/step - loss: 0.0805 - acc: 0.9748 - val_loss: 3.1373 - val_acc: 0.5342\n",
      "Epoch 77/100\n",
      "50000/50000 [==============================] - 4s 85us/step - loss: 0.0836 - acc: 0.9731 - val_loss: 3.3644 - val_acc: 0.5387\n",
      "Epoch 78/100\n",
      "50000/50000 [==============================] - 4s 88us/step - loss: 0.0869 - acc: 0.9718 - val_loss: 3.3695 - val_acc: 0.5407\n",
      "Epoch 79/100\n",
      "50000/50000 [==============================] - 4s 86us/step - loss: 0.0765 - acc: 0.9757 - val_loss: 3.1537 - val_acc: 0.5319\n",
      "Epoch 80/100\n",
      "50000/50000 [==============================] - 4s 88us/step - loss: 0.0801 - acc: 0.9750 - val_loss: 3.2455 - val_acc: 0.5364\n",
      "Epoch 81/100\n",
      "50000/50000 [==============================] - 4s 88us/step - loss: 0.0826 - acc: 0.9733 - val_loss: 3.3696 - val_acc: 0.5453\n",
      "Epoch 82/100\n",
      "50000/50000 [==============================] - 4s 85us/step - loss: 0.0744 - acc: 0.9763 - val_loss: 3.2833 - val_acc: 0.5364\n",
      "Epoch 83/100\n",
      "50000/50000 [==============================] - 4s 86us/step - loss: 0.0705 - acc: 0.9777 - val_loss: 3.3081 - val_acc: 0.5246\n",
      "Epoch 84/100\n",
      "50000/50000 [==============================] - 4s 88us/step - loss: 0.0713 - acc: 0.9768 - val_loss: 3.3808 - val_acc: 0.5381\n",
      "Epoch 85/100\n",
      "50000/50000 [==============================] - 4s 90us/step - loss: 0.0791 - acc: 0.9754 - val_loss: 3.1129 - val_acc: 0.5365\n",
      "Epoch 86/100\n",
      "50000/50000 [==============================] - 4s 89us/step - loss: 0.0762 - acc: 0.9761 - val_loss: 2.9940 - val_acc: 0.5387\n",
      "Epoch 87/100\n",
      "50000/50000 [==============================] - 4s 87us/step - loss: 0.0806 - acc: 0.9753 - val_loss: 3.3158 - val_acc: 0.5353\n",
      "Epoch 88/100\n",
      "50000/50000 [==============================] - 5s 91us/step - loss: 0.0738 - acc: 0.9764 - val_loss: 3.4527 - val_acc: 0.5311\n",
      "Epoch 89/100\n",
      "50000/50000 [==============================] - 4s 86us/step - loss: 0.0681 - acc: 0.9784 - val_loss: 3.5125 - val_acc: 0.5398\n",
      "Epoch 90/100\n",
      "50000/50000 [==============================] - 4s 88us/step - loss: 0.0676 - acc: 0.9789 - val_loss: 3.3401 - val_acc: 0.5395\n",
      "Epoch 91/100\n",
      "50000/50000 [==============================] - 4s 87us/step - loss: 0.0732 - acc: 0.9770 - val_loss: 3.2534 - val_acc: 0.5347\n",
      "Epoch 92/100\n",
      "50000/50000 [==============================] - 4s 86us/step - loss: 0.0783 - acc: 0.9760 - val_loss: 3.0385 - val_acc: 0.5406\n",
      "Epoch 93/100\n",
      "50000/50000 [==============================] - 4s 86us/step - loss: 0.0684 - acc: 0.9780 - val_loss: 3.5183 - val_acc: 0.5375\n",
      "Epoch 94/100\n",
      "50000/50000 [==============================] - 4s 84us/step - loss: 0.0730 - acc: 0.9768 - val_loss: 3.3674 - val_acc: 0.5443\n",
      "Epoch 95/100\n",
      "50000/50000 [==============================] - 4s 87us/step - loss: 0.0716 - acc: 0.9781 - val_loss: 3.2633 - val_acc: 0.5449\n",
      "Epoch 96/100\n",
      "50000/50000 [==============================] - 4s 86us/step - loss: 0.0651 - acc: 0.9795 - val_loss: 3.4752 - val_acc: 0.5406\n",
      "Epoch 97/100\n",
      "50000/50000 [==============================] - 4s 85us/step - loss: 0.0691 - acc: 0.9778 - val_loss: 3.5484 - val_acc: 0.5359\n",
      "Epoch 98/100\n",
      "50000/50000 [==============================] - 4s 86us/step - loss: 0.0635 - acc: 0.9805 - val_loss: 3.3584 - val_acc: 0.5342\n",
      "Epoch 99/100\n",
      "50000/50000 [==============================] - 4s 88us/step - loss: 0.0608 - acc: 0.9809 - val_loss: 3.4376 - val_acc: 0.5412\n",
      "Epoch 100/100\n",
      "50000/50000 [==============================] - 4s 86us/step - loss: 0.0575 - acc: 0.9816 - val_loss: 3.3579 - val_acc: 0.5329\n",
      "Time: 434.0718274116516\n"
     ]
    }
   ],
   "source": [
    "import time\n",
    "startTime = time.time()\n",
    "model.fit(x_train, y_train, \n",
    "          epochs=EPOCHS, \n",
    "          batch_size=BATCH_SIZE, \n",
    "          validation_data=(x_test, y_test), \n",
    "          shuffle=True)\n",
    "takeTimes = time.time() - startTime\n",
    "print(\"Time:\",takeTimes)"
   ]
  },
  {
   "cell_type": "code",
   "execution_count": 75,
   "metadata": {},
   "outputs": [
    {
     "data": {
      "image/png": "[encoded data removed]",
      "text/plain": [
       "<Figure size 432x288 with 1 Axes>"
      ]
     },
     "metadata": {
      "needs_background": "light"
     },
     "output_type": "display_data"
    },
    {
     "data": {
      "image/png": "[encoded data removed]",
      "text/plain": [
       "<Figure size 432x288 with 1 Axes>"
      ]
     },
     "metadata": {
      "needs_background": "light"
     },
     "output_type": "display_data"
    }
   ],
   "source": [
    "import matplotlib.pyplot as plt\n",
    "\n",
    "\n",
    "train_loss = model.history.history[\"loss\"]\n",
    "valid_loss = model.history.history[\"val_loss\"]\n",
    "\n",
    "train_acc = model.history.history[\"acc\"]\n",
    "valid_acc = model.history.history[\"val_acc\"]\n",
    "\n",
    "plt.plot(range(len(train_loss)), train_loss, label=\"train loss\")\n",
    "plt.plot(range(len(valid_loss)), valid_loss, label=\"valid loss\")\n",
    "plt.legend()\n",
    "plt.title(\"Loss\")\n",
    "plt.show()\n",
    "\n",
    "plt.plot(range(len(train_acc)), train_acc, label=\"train accuracy\")\n",
    "plt.plot(range(len(valid_acc)), valid_acc, label=\"valid accuracy\")\n",
    "plt.legend()\n",
    "plt.title(\"Accuracy\")\n",
    "plt.show()"
   ]
  },
  {
   "cell_type": "code",
   "execution_count": null,
   "metadata": {},
   "outputs": [],
   "source": []
  }
 ],
 "metadata": {
  "kernelspec": {
   "display_name": "Python 3",
   "language": "python",
   "name": "python3"
  },
  "language_info": {
   "codemirror_mode": {
    "name": "ipython",
    "version": 3
   },
   "file_extension": ".py",
   "mimetype": "text/x-python",
   "name": "python",
   "nbconvert_exporter": "python",
   "pygments_lexer": "ipython3",
   "version": "3.7.3"
  }
 },
 "nbformat": 4,
 "nbformat_minor": 2
}
