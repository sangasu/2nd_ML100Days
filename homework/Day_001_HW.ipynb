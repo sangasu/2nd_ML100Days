{
 "cells": [
  {
   "cell_type": "markdown",
   "metadata": {},
   "source": [
    "HW1:\n",
    "https://www.kaggle.com/aaron7sun/stocknews\n",
    "1.在科技金融時代, 如何能利用公開的資訊, 提取有用的訊息, 藉以提升投資決策品質, 可帶來實質上的經濟報酬\n",
    "2.利用網路爬蟲從Reddit WorldNews Channel抓取歷史新聞的大標題,以及利用Yahoo finance下載Dow Jones Industrial Average(DJIA)歷史走勢\n",
    "3.包含結構化的資料(DJIA Open/High/Low/Close/Volume...),非結構化資料(news headlines)\n",
    "4.想從Reddit WorldNews Channel裡最hot的headlines(top 25),來預測當日DJIA的漲跌"
   ]
  },
  {
   "cell_type": "markdown",
   "metadata": {},
   "source": [
    "HW2\n",
    "1.想藉由資料分析來訂定新載客策略, 藉以提升業績,\n",
    "  首先訂立一個可量化的指標, 例如:提升全年度業績30%\n",
    "  假設前提是可由載客據點優化分配來提升載客率\n",
    "\n",
    "2-3. \n",
    "\t數據資料                         收集方式                                  資料型態\n",
    "-------------------------------------------------------------------------------------------------\t\n",
    "(1)載客車隊的載客據點分佈             車用GPS傳送位置                          GPS座標(結構化)\n",
    "(2)客人目的地的分佈                  車用GPS傳送位置                          GPS座標(結構化)\n",
    "(3)每台車的等待時間                  依據跳表起始與結束時間切割等待時間         等待時間(結構化)\n",
    "(4)人潮較多的大眾運輸及市集站點分佈    由google map取得                        商場資訊(結構化)\n",
    "\n",
    "4.分析\n",
    "  (1)載客率較高的車子據點是否有共通性\n",
    "  (2)載客率較少的車子其據點分佈\n",
    "  (3)搭配大眾運輸及市集站點分佈交叉分析, 是否與業績好壞有直接影响性"
   ]
  },
  {
   "cell_type": "markdown",
   "metadata": {},
   "source": [
    "## 練習時間\n",
    "#### 請寫一個函式用來計算 Mean Square Error\n",
    "$ MSE = \\frac{1}{n}\\sum_{i=1}^{n}{(Y_i - \\hat{Y}_i)^2} $\n",
    "\n",
    "### Hint: [如何取平方](https://googoodesign.gitbooks.io/-ezpython/unit-1.html)"
   ]
  },
  {
   "cell_type": "code",
   "execution_count": 13,
   "metadata": {},
   "outputs": [],
   "source": [
    "import numpy as np\n",
    "import matplotlib.pyplot as plt"
   ]
  },
  {
   "cell_type": "code",
   "execution_count": 14,
   "metadata": {},
   "outputs": [],
   "source": [
    "def mean_squared_error(y, yp):\n",
    "    \"\"\"\n",
    "    請完成這個 Function 後往下執行\n",
    "    \"\"\"\n",
    "    mse = sum((y - yp)**2) / len(y)\n",
    "    return mse"
   ]
  },
  {
   "cell_type": "code",
   "execution_count": 15,
   "metadata": {},
   "outputs": [],
   "source": [
    "def mean_absolute_error(y, yp):\n",
    "    \"\"\"\n",
    "    計算 MAE\n",
    "    Args:\n",
    "        - y: 實際值\n",
    "        - yp: 預測值\n",
    "    Return:\n",
    "        - mae: MAE\n",
    "    \"\"\"\n",
    "    mae = MAE = sum(abs(y - yp)) / len(y)\n",
    "    return mae"
   ]
  },
  {
   "cell_type": "code",
   "execution_count": 16,
   "metadata": {},
   "outputs": [
    {
     "data": {
      "image/png": "[encoded data removed]",
      "text/plain": [
       "<Figure size 432x288 with 1 Axes>"
      ]
     },
     "metadata": {},
     "output_type": "display_data"
    }
   ],
   "source": [
    "w = 3\n",
    "b = 0.5\n",
    "\n",
    "x_lin = np.linspace(0, 100, 101)\n",
    "\n",
    "y = (x_lin + np.random.randn(101) * 5) * w + b\n",
    "\n",
    "plt.plot(x_lin, y, 'b.', label = 'data points')\n",
    "plt.title(\"Assume we have data points\")\n",
    "plt.legend(loc = 2)\n",
    "plt.show()"
   ]
  },
  {
   "cell_type": "markdown",
   "metadata": {},
   "source": [
    "y_hat = x_lin * w + b\n",
    "plt.plot(x_lin, y, 'b.', label = 'data')\n",
    "plt.plot(x_lin, y_hat, 'r-', label = 'prediction')\n",
    "plt.title(\"Assume we have data points (And the prediction)\")\n",
    "plt.legend(loc = 2)\n",
    "plt.show()"
   ]
  },
  {
   "cell_type": "code",
   "execution_count": 18,
   "metadata": {},
   "outputs": [
    {
     "name": "stdout",
     "output_type": "stream",
     "text": [
      "The Mean squared error is 239.571\n",
      "The Mean absolute error is 12.548\n"
     ]
    }
   ],
   "source": [
    "# 執行 Function, 確認有沒有正常執行\n",
    "MSE = mean_squared_error(y, y_hat)\n",
    "MAE = mean_absolute_error(y, y_hat)\n",
    "print(\"The Mean squared error is %.3f\" % (MSE))\n",
    "print(\"The Mean absolute error is %.3f\" % (MAE))"
   ]
  },
  {
   "cell_type": "code",
   "execution_count": null,
   "metadata": {},
   "outputs": [],
   "source": []
  }
 ],
 "metadata": {
  "anaconda-cloud": {},
  "kernelspec": {
   "display_name": "Python 3",
   "language": "python",
   "name": "python3"
  },
  "language_info": {
   "codemirror_mode": {
    "name": "ipython",
    "version": 3
   },
   "file_extension": ".py",
   "mimetype": "text/x-python",
   "name": "python",
   "nbconvert_exporter": "python",
   "pygments_lexer": "ipython3",
   "version": "3.6.4"
  }
 },
 "nbformat": 4,
 "nbformat_minor": 1
}
