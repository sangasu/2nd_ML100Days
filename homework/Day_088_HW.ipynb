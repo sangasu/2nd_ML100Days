{
 "cells": [
  {
   "cell_type": "markdown",
   "metadata": {},
   "source": [
    "## Work\n",
    "1. 請嘗試寫一個 callback 用來記錄各類別在訓練過程中，對驗證集的 True Positive 與 True Negative"
   ]
  },
  {
   "cell_type": "code",
   "execution_count": 10,
   "metadata": {},
   "outputs": [],
   "source": [
    "import os\n",
    "import keras\n",
    "import pandas as pd\n",
    "# Disable GPU\n",
    "os.environ[\"CUDA_VISIBLE_DEVICES\"] = \"\""
   ]
  },
  {
   "cell_type": "code",
   "execution_count": 11,
   "metadata": {},
   "outputs": [],
   "source": [
    "(x_train, y_train), (x_test, y_test) = keras.datasets.cifar10.load_data()"
   ]
  },
  {
   "cell_type": "code",
   "execution_count": 12,
   "metadata": {},
   "outputs": [],
   "source": [
    "## 資料前處理\n",
    "def preproc_x(x, flatten=True):\n",
    "    x = x / 255.\n",
    "    if flatten:\n",
    "        x = x.reshape((len(x), -1))\n",
    "    return x\n",
    "\n",
    "def preproc_y(y, num_classes=10):\n",
    "    if y.shape[-1] == 1:\n",
    "        y = keras.utils.to_categorical(y, num_classes)\n",
    "    return y    "
   ]
  },
  {
   "cell_type": "code",
   "execution_count": 13,
   "metadata": {},
   "outputs": [],
   "source": [
    "# Preproc the inputs\n",
    "x_train = preproc_x(x_train)\n",
    "x_test = preproc_x(x_test)\n",
    "\n",
    "# Preprc the outputs\n",
    "y_train = preproc_y(y_train)\n",
    "y_test = preproc_y(y_test)"
   ]
  },
  {
   "cell_type": "code",
   "execution_count": 14,
   "metadata": {},
   "outputs": [],
   "source": [
    "from keras.layers import BatchNormalization\n",
    "def build_mlp(input_shape, output_units=10, num_neurons=[256, 256, 256]):\n",
    "    input_layer = keras.layers.Input(input_shape)\n",
    "    \n",
    "    for i, n_units in enumerate(num_neurons):\n",
    "        if i == 0:\n",
    "            x = keras.layers.Dense(units=n_units, \n",
    "                                   activation=\"relu\", \n",
    "                                   name=\"hidden_layer\"+str(i+1))(input_layer)\n",
    "            x = BatchNormalization()(x)\n",
    "        else:\n",
    "            x = keras.layers.Dense(units=n_units, \n",
    "                                   activation=\"relu\", \n",
    "                                   name=\"hidden_layer\"+str(i+1))(x)\n",
    "            x = BatchNormalization()(x)\n",
    "    \n",
    "    out = keras.layers.Dense(units=output_units, activation=\"softmax\", name=\"output\")(x)\n",
    "    \n",
    "    model = keras.models.Model(inputs=[input_layer], outputs=[out])\n",
    "    return model"
   ]
  },
  {
   "cell_type": "code",
   "execution_count": 15,
   "metadata": {},
   "outputs": [],
   "source": [
    "## 超參數設定\n",
    "LEARNING_RATE = 1e-3\n",
    "EPOCHS = 25\n",
    "BATCH_SIZE = 1024\n",
    "MOMENTUM = 0.95"
   ]
  },
  {
   "cell_type": "code",
   "execution_count": 16,
   "metadata": {},
   "outputs": [],
   "source": [
    "# 載入 Callbacks\n",
    "from keras.callbacks import Callback\n",
    "\n",
    "# Record_fp_tp\n",
    "class Record_tp_tn(Callback):\n",
    "    \"\"\"Code Here\n",
    "    撰寫一個紀錄 ture positive 與 true negative 數量的 callbacks    \n",
    "    \"\"\"\n",
    "    def on_train_begin(self, logs = {}):\n",
    "        logs = logs or {}\n",
    "        record_items = [\"val_auc\", \"val_f1sc\", \"val_fp\", \"val_fn\", \"val_tp\", \"val_tn\"]\n",
    "        for i in record_items:\n",
    "            if i not in self.params['metrics']:\n",
    "                self.params['metrics'].append(i)\n",
    "    \n",
    "    def on_epoch_end(self, epoch, logs = {}, thres=0.5):\n",
    "        logs = logs or {}\n",
    "        y_true = self.validation_data[1].argmax(axis = 1) #真實結果(從hot code轉回實際值)\n",
    "        y_pred = self.model.predict(self.validation_data[0])\n",
    "        y_pred = (y_pred >= thres) * 1\n",
    "        data=pd.DataFrame(y_true.reshape(-1,1),columns=['T'])\n",
    "        data['P']=y_pred.argmax(axis = 1).reshape(-1,1)\n",
    "        data2=data[data['T']==data['P']]\n",
    "        tn=0;\n",
    "        tp=0;\n",
    "        total=data2.size\n",
    "        for i in range(10):\n",
    "            c1=data2[data2['T']==i].size\n",
    "            c2=total-c1\n",
    "            tn+=c1\n",
    "            tp+=c2\n",
    "        logs[\"val_tn\"] = tn\n",
    "        logs[\"val_tp\"] = tp\n",
    "rec_tptn = Record_tp_tn()"
   ]
  },
  {
   "cell_type": "code",
   "execution_count": 18,
   "metadata": {
    "scrolled": true
   },
   "outputs": [
    {
     "name": "stderr",
     "output_type": "stream",
     "text": [
      "W0725 22:47:37.884594 11896 deprecation.py:323] From C:\\Users\\Sanga\\AppData\\Roaming\\Python\\Python37\\site-packages\\tensorflow\\python\\ops\\math_grad.py:1250: add_dispatch_support.<locals>.wrapper (from tensorflow.python.ops.array_ops) is deprecated and will be removed in a future version.\n",
      "Instructions for updating:\n",
      "Use tf.where in 2.0, which has the same broadcast rule as np.where\n"
     ]
    },
    {
     "name": "stdout",
     "output_type": "stream",
     "text": [
      "_________________________________________________________________\n",
      "Layer (type)                 Output Shape              Param #   \n",
      "=================================================================\n",
      "input_2 (InputLayer)         (None, 3072)              0         \n",
      "_________________________________________________________________\n",
      "hidden_layer1 (Dense)        (None, 256)               786688    \n",
      "_________________________________________________________________\n",
      "batch_normalization_4 (Batch (None, 256)               1024      \n",
      "_________________________________________________________________\n",
      "hidden_layer2 (Dense)        (None, 256)               65792     \n",
      "_________________________________________________________________\n",
      "batch_normalization_5 (Batch (None, 256)               1024      \n",
      "_________________________________________________________________\n",
      "hidden_layer3 (Dense)        (None, 256)               65792     \n",
      "_________________________________________________________________\n",
      "batch_normalization_6 (Batch (None, 256)               1024      \n",
      "_________________________________________________________________\n",
      "output (Dense)               (None, 10)                2570      \n",
      "=================================================================\n",
      "Total params: 923,914\n",
      "Trainable params: 922,378\n",
      "Non-trainable params: 1,536\n",
      "_________________________________________________________________\n",
      "Train on 50000 samples, validate on 10000 samples\n",
      "Epoch 1/25\n",
      "50000/50000 [==============================] - 4s 90us/step - loss: 2.2847 - acc: 0.2576 - val_loss: 2.2501 - val_acc: 0.3014\n",
      "Epoch 2/25\n",
      "50000/50000 [==============================] - 2s 40us/step - loss: 1.7746 - acc: 0.3849 - val_loss: 1.8566 - val_acc: 0.3675\n",
      "Epoch 3/25\n",
      "50000/50000 [==============================] - 2s 40us/step - loss: 1.6443 - acc: 0.4261 - val_loss: 1.7291 - val_acc: 0.4015\n",
      "Epoch 4/25\n",
      "50000/50000 [==============================] - 2s 40us/step - loss: 1.5652 - acc: 0.4508 - val_loss: 1.6479 - val_acc: 0.4269\n",
      "Epoch 5/25\n",
      "50000/50000 [==============================] - 2s 41us/step - loss: 1.5099 - acc: 0.4716 - val_loss: 1.6081 - val_acc: 0.4408\n",
      "Epoch 6/25\n",
      "50000/50000 [==============================] - 2s 41us/step - loss: 1.4659 - acc: 0.4856 - val_loss: 1.5732 - val_acc: 0.4500\n",
      "Epoch 7/25\n",
      "50000/50000 [==============================] - 2s 41us/step - loss: 1.4282 - acc: 0.5000 - val_loss: 1.5482 - val_acc: 0.4545\n",
      "Epoch 8/25\n",
      "50000/50000 [==============================] - 2s 42us/step - loss: 1.3926 - acc: 0.5144 - val_loss: 1.5259 - val_acc: 0.4592\n",
      "Epoch 9/25\n",
      "50000/50000 [==============================] - 2s 40us/step - loss: 1.3638 - acc: 0.5241 - val_loss: 1.5231 - val_acc: 0.4639\n",
      "Epoch 10/25\n",
      "50000/50000 [==============================] - 2s 40us/step - loss: 1.3370 - acc: 0.5330 - val_loss: 1.4986 - val_acc: 0.4739\n",
      "Epoch 11/25\n",
      "50000/50000 [==============================] - 2s 42us/step - loss: 1.3105 - acc: 0.5432 - val_loss: 1.5040 - val_acc: 0.4709\n",
      "Epoch 12/25\n",
      "50000/50000 [==============================] - 2s 40us/step - loss: 1.2867 - acc: 0.5529 - val_loss: 1.4739 - val_acc: 0.4791\n",
      "Epoch 13/25\n",
      "50000/50000 [==============================] - 2s 41us/step - loss: 1.2648 - acc: 0.5607 - val_loss: 1.4783 - val_acc: 0.4768\n",
      "Epoch 14/25\n",
      "50000/50000 [==============================] - 2s 41us/step - loss: 1.2438 - acc: 0.5675 - val_loss: 1.4669 - val_acc: 0.4778\n",
      "Epoch 15/25\n",
      "50000/50000 [==============================] - 2s 41us/step - loss: 1.2222 - acc: 0.5771 - val_loss: 1.4574 - val_acc: 0.4816\n",
      "Epoch 16/25\n",
      "50000/50000 [==============================] - 2s 41us/step - loss: 1.2022 - acc: 0.5845 - val_loss: 1.4538 - val_acc: 0.4861\n",
      "Epoch 17/25\n",
      "50000/50000 [==============================] - 2s 40us/step - loss: 1.1830 - acc: 0.5913 - val_loss: 1.4478 - val_acc: 0.4887\n",
      "Epoch 18/25\n",
      "50000/50000 [==============================] - 2s 41us/step - loss: 1.1643 - acc: 0.5983 - val_loss: 1.4437 - val_acc: 0.4883\n",
      "Epoch 19/25\n",
      "50000/50000 [==============================] - 2s 41us/step - loss: 1.1457 - acc: 0.6043 - val_loss: 1.4551 - val_acc: 0.4901\n",
      "Epoch 20/25\n",
      "50000/50000 [==============================] - 2s 41us/step - loss: 1.1277 - acc: 0.6123 - val_loss: 1.4489 - val_acc: 0.4925\n",
      "Epoch 21/25\n",
      "50000/50000 [==============================] - 2s 40us/step - loss: 1.1100 - acc: 0.6183 - val_loss: 1.4381 - val_acc: 0.5003\n",
      "Epoch 22/25\n",
      "50000/50000 [==============================] - 2s 41us/step - loss: 1.0928 - acc: 0.6254 - val_loss: 1.4478 - val_acc: 0.4921\n",
      "Epoch 23/25\n",
      "50000/50000 [==============================] - 2s 41us/step - loss: 1.0757 - acc: 0.6310 - val_loss: 1.4369 - val_acc: 0.4964\n",
      "Epoch 24/25\n",
      "50000/50000 [==============================] - 2s 40us/step - loss: 1.0601 - acc: 0.6367 - val_loss: 1.4379 - val_acc: 0.4961\n",
      "Epoch 25/25\n",
      "50000/50000 [==============================] - 2s 40us/step - loss: 1.0428 - acc: 0.6455 - val_loss: 1.4352 - val_acc: 0.4993\n"
     ]
    }
   ],
   "source": [
    "model = build_mlp(input_shape=x_train.shape[1:])\n",
    "model.summary()\n",
    "optimizer = keras.optimizers.SGD(lr=LEARNING_RATE, nesterov=True, momentum=MOMENTUM)\n",
    "model.compile(loss=\"categorical_crossentropy\", metrics=[\"accuracy\"], optimizer=optimizer)\n",
    "\n",
    "\"\"\"Code Here\n",
    "將 callbacks 放入模型訓練流程中\n",
    "\"\"\"\n",
    "model.fit(x_train, y_train, \n",
    "          epochs=EPOCHS, \n",
    "          batch_size=BATCH_SIZE, \n",
    "          validation_data=(x_test, y_test), \n",
    "          shuffle=True,\n",
    "          callbacks=[rec_tptn])\n",
    "\n",
    "# Collect results\n",
    "train_loss = model.history.history[\"loss\"]\n",
    "valid_loss = model.history.history[\"val_loss\"]\n",
    "train_acc = model.history.history[\"acc\"]\n",
    "valid_acc = model.history.history[\"val_acc\"]\n",
    "\n",
    "\"\"\"Code Here\n",
    "將 tp/tn 從訓練完的模型中取出\n",
    "\"\"\"\n",
    "valid_tp = model.history.history[\"val_tp\"]\n",
    "valid_tn = model.history.history[\"val_tn\"]"
   ]
  },
  {
   "cell_type": "code",
   "execution_count": 19,
   "metadata": {},
   "outputs": [
    {
     "data": {
      "image/png": "[encoded data removed]",
      "text/plain": [
       "<Figure size 432x288 with 1 Axes>"
      ]
     },
     "metadata": {
      "needs_background": "light"
     },
     "output_type": "display_data"
    },
    {
     "data": {
      "image/png": "[encoded data removed]",
      "text/plain": [
       "<Figure size 432x288 with 1 Axes>"
      ]
     },
     "metadata": {
      "needs_background": "light"
     },
     "output_type": "display_data"
    },
    {
     "data": {
      "image/png": "[encoded data removed]",
      "text/plain": [
       "<Figure size 432x288 with 1 Axes>"
      ]
     },
     "metadata": {
      "needs_background": "light"
     },
     "output_type": "display_data"
    }
   ],
   "source": [
    "import matplotlib.pyplot as plt\n",
    "%matplotlib inline\n",
    "\n",
    "plt.plot(range(len(train_loss)), train_loss, label=\"train loss\")\n",
    "plt.plot(range(len(valid_loss)), valid_loss, label=\"valid loss\")\n",
    "plt.legend()\n",
    "plt.title(\"Loss\")\n",
    "plt.show()\n",
    "\n",
    "plt.plot(range(len(train_acc)), train_acc, label=\"train accuracy\")\n",
    "plt.plot(range(len(valid_acc)), valid_acc, label=\"valid accuracy\")\n",
    "plt.legend()\n",
    "plt.title(\"Accuracy\")\n",
    "plt.show()\n",
    "\n",
    "plt.plot(range(len(valid_tp)), valid_tp, label=\"valid tp\", color=\"navy\")\n",
    "plt.plot(range(len(valid_tn)), valid_tn, label=\"valid tn\", color=\"red\")\n",
    "plt.legend()\n",
    "plt.title(\"True positives and True Negatives\")\n",
    "plt.show()\n"
   ]
  },
  {
   "cell_type": "code",
   "execution_count": null,
   "metadata": {},
   "outputs": [],
   "source": []
  }
 ],
 "metadata": {
  "kernelspec": {
   "display_name": "Python 3",
   "language": "python",
   "name": "python3"
  },
  "language_info": {
   "codemirror_mode": {
    "name": "ipython",
    "version": 3
   },
   "file_extension": ".py",
   "mimetype": "text/x-python",
   "name": "python",
   "nbconvert_exporter": "python",
   "pygments_lexer": "ipython3",
   "version": "3.7.3"
  }
 },
 "nbformat": 4,
 "nbformat_minor": 2
}
