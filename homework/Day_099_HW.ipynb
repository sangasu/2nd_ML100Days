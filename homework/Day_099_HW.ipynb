{
 "cells": [
  {
   "cell_type": "code",
   "execution_count": 14,
   "metadata": {},
   "outputs": [],
   "source": [
    "import keras\n",
    "from keras.datasets import cifar10\n",
    "from keras.preprocessing.image import ImageDataGenerator\n",
    "from keras.models import Sequential\n",
    "from keras.layers import Dense, Dropout, Activation, Flatten\n",
    "from keras.layers import Conv2D, MaxPooling2D\n",
    "from keras.optimizers import RMSprop, Adam\n",
    "import os"
   ]
  },
  {
   "cell_type": "code",
   "execution_count": 15,
   "metadata": {},
   "outputs": [
    {
     "name": "stdout",
     "output_type": "stream",
     "text": [
      "x_train shape: (50000, 32, 32, 3)\n",
      "50000 train samples\n",
      "10000 test samples\n"
     ]
    }
   ],
   "source": [
    "batch_size = 128 # batch 的大小，如果出現 OOM error，請降低這個值\n",
    "num_classes = 10 # 類別的數量，Cifar 10 共有 10 個類別\n",
    "epochs = 10 # 訓練的 epochs 數量\n",
    "\n",
    "# 讀取資料並檢視\n",
    "(x_train, y_train), (x_test, y_test) = cifar10.load_data()\n",
    "print('x_train shape:', x_train.shape)\n",
    "print(x_train.shape[0], 'train samples')\n",
    "print(x_test.shape[0], 'test samples')\n",
    "x_train = x_train.astype('float32')\n",
    "x_test = x_test.astype('float32')\n",
    "x_train /= 255\n",
    "x_test /= 255\n",
    "\n",
    "# 對 label 進行 one-hot encoding (y_trian 原本是純數字)\n",
    "y_train = keras.utils.to_categorical(y_train, num_classes)\n",
    "y_test = keras.utils.to_categorical(y_test, num_classes)"
   ]
  },
  {
   "cell_type": "code",
   "execution_count": 18,
   "metadata": {
    "scrolled": true
   },
   "outputs": [
    {
     "name": "stdout",
     "output_type": "stream",
     "text": [
      "_________________________________________________________________\n",
      "Layer (type)                 Output Shape              Param #   \n",
      "=================================================================\n",
      "conv2d_21 (Conv2D)           (None, 32, 32, 32)        896       \n",
      "_________________________________________________________________\n",
      "activation_31 (Activation)   (None, 32, 32, 32)        0         \n",
      "_________________________________________________________________\n",
      "conv2d_22 (Conv2D)           (None, 30, 30, 32)        9248      \n",
      "_________________________________________________________________\n",
      "activation_32 (Activation)   (None, 30, 30, 32)        0         \n",
      "_________________________________________________________________\n",
      "max_pooling2d_11 (MaxPooling (None, 15, 15, 32)        0         \n",
      "_________________________________________________________________\n",
      "dropout_16 (Dropout)         (None, 15, 15, 32)        0         \n",
      "_________________________________________________________________\n",
      "conv2d_23 (Conv2D)           (None, 15, 15, 64)        18496     \n",
      "_________________________________________________________________\n",
      "activation_33 (Activation)   (None, 15, 15, 64)        0         \n",
      "_________________________________________________________________\n",
      "conv2d_24 (Conv2D)           (None, 13, 13, 64)        36928     \n",
      "_________________________________________________________________\n",
      "activation_34 (Activation)   (None, 13, 13, 64)        0         \n",
      "_________________________________________________________________\n",
      "max_pooling2d_12 (MaxPooling (None, 6, 6, 64)          0         \n",
      "_________________________________________________________________\n",
      "dropout_17 (Dropout)         (None, 6, 6, 64)          0         \n",
      "_________________________________________________________________\n",
      "flatten_6 (Flatten)          (None, 2304)              0         \n",
      "_________________________________________________________________\n",
      "dense_11 (Dense)             (None, 512)               1180160   \n",
      "_________________________________________________________________\n",
      "activation_35 (Activation)   (None, 512)               0         \n",
      "_________________________________________________________________\n",
      "dropout_18 (Dropout)         (None, 512)               0         \n",
      "_________________________________________________________________\n",
      "dense_12 (Dense)             (None, 10)                5130      \n",
      "_________________________________________________________________\n",
      "activation_36 (Activation)   (None, 10)                0         \n",
      "=================================================================\n",
      "Total params: 1,250,858\n",
      "Trainable params: 1,250,858\n",
      "Non-trainable params: 0\n",
      "_________________________________________________________________\n",
      "Epoch 1/10\n",
      "390/390 [==============================] - 27s 68ms/step - loss: 1.8917 - acc: 0.3041 - val_loss: 1.6853 - val_acc: 0.4063\n",
      "Epoch 2/10\n",
      "390/390 [==============================] - 26s 67ms/step - loss: 1.5746 - acc: 0.4267 - val_loss: 1.2486 - val_acc: 0.5554\n",
      "Epoch 3/10\n",
      "390/390 [==============================] - 26s 66ms/step - loss: 1.4048 - acc: 0.4949 - val_loss: 1.2401 - val_acc: 0.5504\n",
      "Epoch 4/10\n",
      "390/390 [==============================] - 26s 65ms/step - loss: 1.2954 - acc: 0.5365 - val_loss: 1.0240 - val_acc: 0.6278\n",
      "Epoch 5/10\n",
      "390/390 [==============================] - 26s 66ms/step - loss: 1.2095 - acc: 0.5682 - val_loss: 1.0168 - val_acc: 0.6384\n",
      "Epoch 6/10\n",
      "390/390 [==============================] - 26s 66ms/step - loss: 1.1385 - acc: 0.5979 - val_loss: 0.9740 - val_acc: 0.6525\n",
      "Epoch 7/10\n",
      "390/390 [==============================] - 26s 66ms/step - loss: 1.0914 - acc: 0.6121 - val_loss: 0.9832 - val_acc: 0.6690\n",
      "Epoch 8/10\n",
      "390/390 [==============================] - 27s 68ms/step - loss: 1.0460 - acc: 0.6308 - val_loss: 0.8841 - val_acc: 0.6904\n",
      "Epoch 9/10\n",
      "390/390 [==============================] - 28s 72ms/step - loss: 1.0116 - acc: 0.6452 - val_loss: 0.8724 - val_acc: 0.6986\n",
      "Epoch 10/10\n",
      "390/390 [==============================] - 29s 74ms/step - loss: 0.9802 - acc: 0.6568 - val_loss: 0.8180 - val_acc: 0.7163\n",
      "Test loss: 0.818012645149231\n",
      "Test accuracy: 0.7163\n"
     ]
    }
   ],
   "source": [
    "model = Sequential()\n",
    "model.add(Conv2D(32, (3, 3), padding='same',\n",
    "                 input_shape=x_train.shape[1:]))\n",
    "model.add(Activation('relu'))\n",
    "model.add(Conv2D(32, (3, 3)))\n",
    "model.add(Activation('relu'))\n",
    "model.add(MaxPooling2D(pool_size=(2, 2)))\n",
    "model.add(Dropout(0.25))\n",
    "\n",
    "model.add(Conv2D(64, (3, 3), padding='same'))\n",
    "model.add(Activation('relu'))\n",
    "model.add(Conv2D(64, (3, 3)))\n",
    "model.add(Activation('relu'))\n",
    "model.add(MaxPooling2D(pool_size=(2, 2)))\n",
    "model.add(Dropout(0.25))\n",
    "\n",
    "model.add(Flatten())\n",
    "model.add(Dense(512))\n",
    "model.add(Activation('relu'))\n",
    "model.add(Dropout(0.25))\n",
    "model.add(Dense(num_classes))\n",
    "model.add(Activation('softmax'))\n",
    "model.summary()\n",
    "\n",
    "model.compile(loss='categorical_crossentropy',\n",
    "              optimizer=RMSprop(),\n",
    "              metrics=['accuracy'])\n",
    "\n",
    "aug = ImageDataGenerator(rotation_range=10,\n",
    "    width_shift_range=0.2,\n",
    "    height_shift_range=0.2,\n",
    "    horizontal_flip=True)\n",
    "model.fit_generator(aug.flow(x_train, y_train, batch_size=batch_size),validation_data=(x_test, y_test), steps_per_epoch=len(x_train) // batch_size,\n",
    "epochs=epochs)\n",
    "#history = model.fit(x_train, y_train,\n",
    "#                    batch_size=batch_size,\n",
    "#                    epochs=epochs,\n",
    "#                    verbose=1,\n",
    "#                    validation_data=(x_test, y_test))\n",
    "score = model.evaluate(x_test, y_test, verbose=0)\n",
    "print('Test loss:', score[0])\n",
    "print('Test accuracy:', score[1])"
   ]
  },
  {
   "cell_type": "code",
   "execution_count": 20,
   "metadata": {},
   "outputs": [
    {
     "name": "stdout",
     "output_type": "stream",
     "text": [
      "Epoch 1/10\n",
      "390/390 [==============================] - 26s 66ms/step - loss: 0.9513 - acc: 0.6728 - val_loss: 0.8642 - val_acc: 0.7023\n",
      "Epoch 2/10\n",
      "390/390 [==============================] - 25s 64ms/step - loss: 0.9561 - acc: 0.6724 - val_loss: 0.9291 - val_acc: 0.7109\n",
      "Epoch 3/10\n",
      "390/390 [==============================] - 26s 65ms/step - loss: 0.9538 - acc: 0.6737 - val_loss: 0.8886 - val_acc: 0.7015\n",
      "Epoch 4/10\n",
      "390/390 [==============================] - 25s 65ms/step - loss: 0.9598 - acc: 0.6740 - val_loss: 0.9147 - val_acc: 0.7096\n",
      "Epoch 5/10\n",
      "390/390 [==============================] - 26s 66ms/step - loss: 0.9505 - acc: 0.6736 - val_loss: 0.8635 - val_acc: 0.7183\n",
      "Epoch 6/10\n",
      "390/390 [==============================] - 25s 64ms/step - loss: 0.9533 - acc: 0.6752 - val_loss: 0.8262 - val_acc: 0.7288\n",
      "Epoch 7/10\n",
      "390/390 [==============================] - 26s 66ms/step - loss: 0.9440 - acc: 0.6781 - val_loss: 0.8210 - val_acc: 0.7315\n",
      "Epoch 8/10\n",
      "390/390 [==============================] - 25s 65ms/step - loss: 0.9580 - acc: 0.6731 - val_loss: 1.0252 - val_acc: 0.6677\n",
      "Epoch 9/10\n",
      "390/390 [==============================] - 25s 65ms/step - loss: 0.9582 - acc: 0.6743 - val_loss: 0.8925 - val_acc: 0.7036\n",
      "Epoch 10/10\n",
      "390/390 [==============================] - 25s 65ms/step - loss: 0.9558 - acc: 0.6743 - val_loss: 0.7716 - val_acc: 0.7554\n",
      "Test loss: 0.7715660013198853\n",
      "Test accuracy: 0.7554\n"
     ]
    }
   ],
   "source": [
    "#rotation_range改成30\n",
    "aug = ImageDataGenerator(rotation_range=30,\n",
    "    width_shift_range=0.2,\n",
    "    height_shift_range=0.2,\n",
    "    horizontal_flip=True)\n",
    "model.fit_generator(aug.flow(x_train, y_train, batch_size=batch_size),validation_data=(x_test, y_test), steps_per_epoch=len(x_train) // batch_size,\n",
    "epochs=epochs)\n",
    "score = model.evaluate(x_test, y_test, verbose=0)\n",
    "print('Test loss:', score[0])\n",
    "print('Test accuracy:', score[1])"
   ]
  },
  {
   "cell_type": "code",
   "execution_count": null,
   "metadata": {},
   "outputs": [],
   "source": [
    "#不同參數調整會影响預測準確度"
   ]
  }
 ],
 "metadata": {
  "kernelspec": {
   "display_name": "Python 3",
   "language": "python",
   "name": "python3"
  },
  "language_info": {
   "codemirror_mode": {
    "name": "ipython",
    "version": 3
   },
   "file_extension": ".py",
   "mimetype": "text/x-python",
   "name": "python",
   "nbconvert_exporter": "python",
   "pygments_lexer": "ipython3",
   "version": "3.7.3"
  }
 },
 "nbformat": 4,
 "nbformat_minor": 2
}
